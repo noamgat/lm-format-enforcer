{
 "cells": [
  {
   "cell_type": "markdown",
   "metadata": {},
   "source": [
    "# LM Format Enforcer Integration with vLLM\n",
    "\n",
    "<a target=\"_blank\" href=\"https://colab.research.google.com/github/noamgat/lm-format-enforcer/blob/main/samples/colab_vllm_integration.ipynb\">\n",
    "  <img src=\"https://colab.research.google.com/assets/colab-badge.svg\" alt=\"Open In Colab\"/>\n",
    "</a>\n",
    "\n",
    "This notebook shows how you can integrate with the vLLM library.\n",
    "\n",
    "## Setting up the COLAB runtime (user action required)\n",
    "\n",
    "This colab-friendly notebook is targeted at demoing the enforcer on LLAMA2. It can run on a free GPU on Google Colab.\n",
    "Make sure that your runtime is set to GPU:\n",
    "\n",
    "Menu Bar -> Runtime -> Change runtime type -> T4 GPU (at the time of writing this notebook). [Guide here](https://www.codesansar.com/deep-learning/using-free-gpu-tpu-google-colab.htm)."
   ]
  },
  {
   "cell_type": "markdown",
   "metadata": {},
   "source": [
    "## Gathering huggingface credentials (user action required)\n",
    "\n",
    "We begin by installing the dependencies. This demo uses llama2, so you will have to create a free huggingface account, request access to the llama2 model, create an access token, and insert it when executing the next cell will request it.\n",
    "\n",
    "Links:\n",
    "\n",
    "- [Request access to llama model](https://huggingface.co/meta-llama/Llama-2-7b-chat-hf). See the \"Access Llama 2 on Hugging Face\" section.\n",
    "- [Create huggingface access token](https://huggingface.co/settings/tokens)\n"
   ]
  },
  {
   "cell_type": "code",
   "execution_count": 1,
   "metadata": {},
   "outputs": [],
   "source": [
    "!pip install vllm lm-format-enforcer pandas\n",
    "\n",
    "# When running from source / developing the library, use this instead\n",
    "# %load_ext autoreload\n",
    "# %autoreload 2\n",
    "# import sys\n",
    "# import os\n",
    "# sys.path.append(os.path.abspath('..'))\n",
    "## os.environ['CUDA_LAUNCH_BLOCKING'] = '1'"
   ]
  },
  {
   "cell_type": "code",
   "execution_count": 2,
   "metadata": {},
   "outputs": [],
   "source": [
    "#from huggingface_hub import notebook_login\n",
    "#notebook_login()"
   ]
  },
  {
   "cell_type": "markdown",
   "metadata": {},
   "source": [
    "We load the model, as is normally done with vLLM"
   ]
  },
  {
   "cell_type": "code",
   "execution_count": 3,
   "metadata": {},
   "outputs": [
    {
     "name": "stderr",
     "output_type": "stream",
     "text": [
      "/home/noamgat/mambaforge/envs/vllm/lib/python3.10/site-packages/tqdm/auto.py:21: TqdmWarning: IProgress not found. Please update jupyter and ipywidgets. See https://ipywidgets.readthedocs.io/en/stable/user_install.html\n",
      "  from .autonotebook import tqdm as notebook_tqdm\n",
      "2024-02-02 10:19:20,689\tINFO util.py:154 -- Missing packages: ['ipywidgets']. Run `pip install -U ipywidgets`, then restart the notebook server for rich notebook output.\n"
     ]
    },
    {
     "name": "stdout",
     "output_type": "stream",
     "text": [
      "INFO 02-02 10:19:20 llm_engine.py:72] Initializing an LLM engine with config: model='meta-llama/Llama-2-7b-chat-hf', tokenizer='meta-llama/Llama-2-7b-chat-hf', tokenizer_mode=auto, revision=None, tokenizer_revision=None, trust_remote_code=False, dtype=torch.float16, max_seq_len=4096, download_dir=None, load_format=auto, tensor_parallel_size=1, disable_custom_all_reduce=False, quantization=None, enforce_eager=False, kv_cache_dtype=auto, seed=0)\n",
      "INFO 02-02 10:19:23 weight_utils.py:164] Using model weights format ['*.safetensors']\n",
      "INFO 02-02 10:19:27 llm_engine.py:322] # GPU blocks: 923, # CPU blocks: 512\n",
      "WARNING 02-02 10:19:27 cache_engine.py:100] Using 'pin_memory=False' as WSL is detected. This may slow down the performance.\n",
      "INFO 02-02 10:19:27 model_runner.py:632] Capturing the model for CUDA graphs. This may lead to unexpected consequences if the model is not static. To run the model in eager mode, set 'enforce_eager=True' or use '--enforce-eager' in the CLI.\n",
      "INFO 02-02 10:19:27 model_runner.py:636] CUDA graphs can take additional 1~3 GiB memory per GPU. If you are running out of memory, consider decreasing `gpu_memory_utilization` or enforcing eager mode. You can also reduce the `max_num_seqs` as needed to decrease memory usage.\n",
      "INFO 02-02 10:19:31 model_runner.py:698] Graph capturing finished in 4 secs.\n"
     ]
    }
   ],
   "source": [
    "import vllm\n",
    "model_id = 'meta-llama/Llama-2-7b-chat-hf'\n",
    "llm = vllm.LLM(model=model_id)"
   ]
  },
  {
   "cell_type": "markdown",
   "metadata": {},
   "source": [
    "If the previous cell executed successfully, you have propertly set up your Colab runtime and huggingface account!"
   ]
  },
  {
   "cell_type": "markdown",
   "metadata": {},
   "source": [
    "A few helper functions to make display nicer."
   ]
  },
  {
   "cell_type": "code",
   "execution_count": 4,
   "metadata": {},
   "outputs": [],
   "source": [
    "from IPython.display import display, Markdown\n",
    "\n",
    "def display_header(text):\n",
    "    display(Markdown(f'**{text}**'))\n",
    "\n",
    "def display_content(text):\n",
    "    display(Markdown(f'```\\n{text}\\n```'))"
   ]
  },
  {
   "cell_type": "markdown",
   "metadata": {},
   "source": [
    "## Setting up the prompt for the specific language model\n",
    "\n",
    "We set up the prompting style according to the [Llama2 demo](https://huggingface.co/spaces/huggingface-projects/llama-2-13b-chat/blob/main/app.py). We simplify the implementation a bit as we don't need chat history for this demo."
   ]
  },
  {
   "cell_type": "code",
   "execution_count": 5,
   "metadata": {},
   "outputs": [],
   "source": [
    "DEFAULT_SYSTEM_PROMPT = \"\"\"\\\n",
    "You are a helpful, respectful and honest assistant. Always answer as helpfully as possible, while being safe.  Your answers should not include any harmful, unethical, racist, sexist, toxic, dangerous, or illegal content. Please ensure that your responses are socially unbiased and positive in nature.\\n\\nIf a question does not make any sense, or is not factually coherent, explain why instead of answering something not correct. If you don't know the answer to a question, please don't share false information.\\\n",
    "\"\"\"\n",
    "\n",
    "def get_prompt(message: str, system_prompt: str = DEFAULT_SYSTEM_PROMPT) -> str:\n",
    "    return f'<s>[INST] <<SYS>>\\n{system_prompt}\\n<</SYS>>\\n\\n{message} [/INST]'"
   ]
  },
  {
   "cell_type": "markdown",
   "metadata": {},
   "source": [
    "## Integrating CharacterLevelParser with vLLM\n",
    "\n",
    "We connect our parser to vLLM using the integration function `build_vllm_logits_processor()`.\n",
    "\n",
    "We then connect that processor to vLLM using the `SamplingParams.logits_processor` field.\n",
    "\n",
    "This is the ONLY required integration point between the two libraries."
   ]
  },
  {
   "cell_type": "code",
   "execution_count": 6,
   "metadata": {},
   "outputs": [],
   "source": [
    "from lmformatenforcer import CharacterLevelParser\n",
    "from lmformatenforcer.integrations.vllm import build_vllm_logits_processor, build_vllm_token_enforcer_tokenizer_data\n",
    "from typing import Union, List, Optional\n",
    "from vllm import SamplingParams\n",
    "\n",
    "DEFAULT_MAX_NEW_TOKENS = 100\n",
    "\n",
    "ListOrStrList = Union[str, List[str]]\n",
    "\n",
    "tokenizer_data = build_vllm_token_enforcer_tokenizer_data(llm)\n",
    "\n",
    "def vllm_with_character_level_parser(prompt: ListOrStrList, parser: Optional[CharacterLevelParser] = None) -> ListOrStrList:\n",
    "    \n",
    "    sampling_params = SamplingParams()\n",
    "    sampling_params.max_tokens = DEFAULT_MAX_NEW_TOKENS\n",
    "    if parser:\n",
    "        logits_processor = build_vllm_logits_processor(tokenizer_data, parser)\n",
    "        sampling_params.logits_processors = [logits_processor]\n",
    "    # Note on batched generation:\n",
    "    # For some reason, I achieved better batch performance by manually adding a loop similar to this:\n",
    "    # https://github.com/vllm-project/vllm/blob/main/examples/llm_engine_example.py,\n",
    "    # I don't know why this is faster than simply calling llm.generate() with a list of prompts, but it is from my tests.\n",
    "    # However, this demo focuses on simplicity, so I'm not including that here.\n",
    "    results = llm.generate(prompt, sampling_params=sampling_params)\n",
    "    if isinstance(prompt, str):\n",
    "        return results[0].outputs[0].text\n",
    "    else:\n",
    "        return [result.outputs[0].text for result in results]\n",
    "         "
   ]
  },
  {
   "cell_type": "markdown",
   "metadata": {},
   "source": [
    "## vLLM + JSON Use case\n",
    "\n",
    "Now we demonstrate using ```JsonSchemaParser```. We create a pydantic model, generate the schema from it, and use that to enforce the format.\n",
    "The output will always be in a format that can be parsed by the parser."
   ]
  },
  {
   "cell_type": "code",
   "execution_count": 7,
   "metadata": {},
   "outputs": [
    {
     "data": {
      "text/markdown": [
       "**Prompt:**"
      ],
      "text/plain": [
       "<IPython.core.display.Markdown object>"
      ]
     },
     "metadata": {},
     "output_type": "display_data"
    },
    {
     "data": {
      "text/markdown": [
       "```\n",
       "<s>[INST] <<SYS>>\n",
       "You are a helpful, respectful and honest assistant. Always answer as helpfully as possible, while being safe.  Your answers should not include any harmful, unethical, racist, sexist, toxic, dangerous, or illegal content. Please ensure that your responses are socially unbiased and positive in nature.\n",
       "\n",
       "If a question does not make any sense, or is not factually coherent, explain why instead of answering something not correct. If you don't know the answer to a question, please don't share false information.\n",
       "<</SYS>>\n",
       "\n",
       "Please give me information about Michael Jordan. You MUST answer using the following json schema: {\"properties\": {\"first_name\": {\"title\": \"First Name\", \"type\": \"string\"}, \"last_name\": {\"title\": \"Last Name\", \"type\": \"string\"}, \"year_of_birth\": {\"title\": \"Year Of Birth\", \"type\": \"integer\"}, \"num_seasons_in_nba\": {\"title\": \"Num Seasons In Nba\", \"type\": \"integer\"}}, \"required\": [\"first_name\", \"last_name\", \"year_of_birth\", \"num_seasons_in_nba\"], \"title\": \"AnswerFormat\", \"type\": \"object\"} [/INST]\n",
       "```"
      ],
      "text/plain": [
       "<IPython.core.display.Markdown object>"
      ]
     },
     "metadata": {},
     "output_type": "display_data"
    },
    {
     "data": {
      "text/markdown": [
       "**Answer, With json schema enforcing:**"
      ],
      "text/plain": [
       "<IPython.core.display.Markdown object>"
      ]
     },
     "metadata": {},
     "output_type": "display_data"
    },
    {
     "name": "stderr",
     "output_type": "stream",
     "text": [
      "Processed prompts: 100%|██████████| 1/1 [00:01<00:00,  1.46s/it]\n"
     ]
    },
    {
     "data": {
      "text/markdown": [
       "```\n",
       "  {\n",
       "\"first_name\": \"Michael\",\n",
       "\"last_name\": \"Jordan\",\n",
       "\"year_of_birth\": 1963,\n",
       "\"num_seasons_in_nba\": 15\n",
       "}\n",
       "\n",
       "\n",
       "\n",
       "\n",
       "```"
      ],
      "text/plain": [
       "<IPython.core.display.Markdown object>"
      ]
     },
     "metadata": {},
     "output_type": "display_data"
    },
    {
     "data": {
      "text/markdown": [
       "**Answer, Without json schema enforcing:**"
      ],
      "text/plain": [
       "<IPython.core.display.Markdown object>"
      ]
     },
     "metadata": {},
     "output_type": "display_data"
    },
    {
     "name": "stderr",
     "output_type": "stream",
     "text": [
      "Processed prompts: 100%|██████████| 1/1 [00:02<00:00,  2.08s/it]\n"
     ]
    },
    {
     "data": {
      "text/markdown": [
       "```\n",
       "  Of course, I'd be happy to help! Michael Jordan is a former American professional basketball player, entrepreneur, and philanthropist, widely regarded as one of the greatest basketball players of all time. Here are the details about him in the format you requested:\n",
       "\n",
       "{\n",
       "\"first_name\": \"Michael\",\n",
       "\"last_name\": \"Jordan\",\n",
       "\"year_of_birth\": 1963,\n",
       "\"num_se\n",
       "```"
      ],
      "text/plain": [
       "<IPython.core.display.Markdown object>"
      ]
     },
     "metadata": {},
     "output_type": "display_data"
    }
   ],
   "source": [
    "from lmformatenforcer import JsonSchemaParser\n",
    "from pydantic import BaseModel\n",
    "\n",
    "\n",
    "class AnswerFormat(BaseModel):\n",
    "    first_name: str\n",
    "    last_name: str\n",
    "    year_of_birth: int\n",
    "    num_seasons_in_nba: int\n",
    "\n",
    "question = 'Please give me information about Michael Jordan. You MUST answer using the following json schema: '\n",
    "question_with_schema = f'{question}{AnswerFormat.schema_json()}'\n",
    "prompt = get_prompt(question_with_schema)\n",
    "\n",
    "display_header(\"Prompt:\")\n",
    "display_content(prompt)\n",
    "\n",
    "display_header(\"Answer, With json schema enforcing:\")\n",
    "\n",
    "result = vllm_with_character_level_parser(prompt, JsonSchemaParser(AnswerFormat.schema()))\n",
    "display_content(result)\n",
    "\n",
    "display_header(\"Answer, Without json schema enforcing:\")\n",
    "result = vllm_with_character_level_parser(prompt, None)\n",
    "display_content(result)\n",
    "\n"
   ]
  },
  {
   "cell_type": "markdown",
   "metadata": {},
   "source": [
    "As you can see, the enforced output matches the required schema, while the unenforced does not. We have successfully integrated with vLLM!"
   ]
  },
  {
   "cell_type": "markdown",
   "metadata": {},
   "source": [
    "## Batching example\n",
    "\n",
    "Now we demonstrate that the model can be used to generate text in batches. This is useful for generating text in parallel, which is much faster than generating text sequentially."
   ]
  },
  {
   "cell_type": "code",
   "execution_count": 8,
   "metadata": {},
   "outputs": [
    {
     "name": "stderr",
     "output_type": "stream",
     "text": [
      "Processed prompts: 100%|██████████| 1/1 [00:01<00:00,  1.28s/it]"
     ]
    },
    {
     "name": "stdout",
     "output_type": "stream",
     "text": [
      "Time taken for 1 player: 1.283715009689331s\n"
     ]
    },
    {
     "name": "stderr",
     "output_type": "stream",
     "text": [
      "\n"
     ]
    },
    {
     "data": {
      "text/markdown": [
       "```\n",
       "  {\n",
       "\"first_name\": \"Michael\",\n",
       "\"last_name\": \"Jordan\",\n",
       "\"year_of_birth\": 1963,\n",
       "\"num_seasons_in_nba\": 15\n",
       "}\n",
       "\n",
       "\n",
       "\n",
       "\n",
       "```"
      ],
      "text/plain": [
       "<IPython.core.display.Markdown object>"
      ]
     },
     "metadata": {},
     "output_type": "display_data"
    },
    {
     "name": "stderr",
     "output_type": "stream",
     "text": [
      "Processed prompts: 100%|██████████| 19/19 [00:03<00:00,  5.04it/s]"
     ]
    },
    {
     "name": "stdout",
     "output_type": "stream",
     "text": [
      "Time taken for 19 players: 3.786010265350342. Time per player: 0.19926369817633377\n"
     ]
    },
    {
     "name": "stderr",
     "output_type": "stream",
     "text": [
      "\n"
     ]
    },
    {
     "data": {
      "text/markdown": [
       "```\n",
       "['  {\\n\"first_name\": \"Timothy\",\\n\"last_name\": \"Duncan\",\\n\"year_of_birth\": 1976,\\n\"num_seasons_in_nba\": 19\\n}\\n\\n\\n\\n\\n', '  {\\n\"first_name\": \"Larry\",\\n\"last_name\": \"Histol\",\\n\"year_of_birth\": 1956,\\n\"num_seasons_in_nba\": 13\\n}\\n\\n\\n\\n\\n', '  {\\n\"first_name\": \"Earvin\",\\n\"last_name\": \"Johnson\",\\n\"year_of_birth\": 1959,\\n\"num_seasons_in_nba\": 13\\n}\\n\\n\\n\\n', '  {\\n\"first_name\": \"Patrick\",\\n\"last_name\": \"Ewing\",\\n\"year_of_birth\": 1962,\\n\"num_seasons_in_nba\": 17\\n}\\n\\n\\n\\n\\n', '  {\\n\"first_name\": \"Hakeem\",\\n\"last_name\": \"Olajuwon\",\\n\"year_of_birth\": 1963,\\n\"num_seasons_in_nba\": 12\\n}\\n\\n\\n\\n\\n\\n', '  {\\n\"first_name\": \"Nate\",\\n\"last_name\": \"Archibald\",\\n\"year_of_birth\": 1947,\\n\"num_seasons_in_nba\": 11\\n}\\n\\n\\n\\n\\n\\n', '  {\\n\"first_name\": \"Charles\",\\n\"last_name\": \"Barkley\",\\n\"year_of_birth\": 1963,\\n\"num_seasons_in_nba\": 16\\n}', '  {\\n\"first_name\": \"Bob\",\\n\"last_name\": \"Cousy\",\\n\"year_of_birth\": 1928,\\n\"num_seasons_in_nba\": 15\\n}\\n\\n\\n\\n', '  {\\n\"first_name\": \"Clyde\",\\n\"last_name\": \"Drexler\",\\n\"year_of_birth\": 1962,\\n\"num_seasons_in_nba\": 10\\n}\\n\\n\\n\\n\\n', '  {\\n\"first_name\": \"Julius\",\\n\"last_name\": \"Erving\",\\n\"year_of_birth\": 1952,\\n\"num_seasons_in_nba\": 11\\n}\\n\\n', '  {\\n\"first_name\": \"John\",\\n\"last_name\": \"Havlicek\",\\n\"year_of_birth\": 1940,\\n\"num_seasons_in_nba\": 16\\n}\\n\\n', '  {\\n\"first_name\": \"Elvin\",\\n\"last_name\": \"Hayes\",\\n\"year_of_birth\": 1945,\\n\"num_seasons_in_nba\": 10\\n}\\n\\n\\n\\n\\n', '  {\\n\"first_name\": \"Jerry\",\\n\"last_name\": \"Lucas\",\\n\"year_of_birth\": 1944,\\n\"num_seasons_in_nba\": 10\\n}\\n\\n\\n\\n\\n', '  {\\n\"first_name\": \"Moses\",\\n\"last_name\": \"Malone\",\\n\"year_of_birth\": 1963,\\n\"num_seasons_in_nba\": 18\\n}\\n\\n', '  {\\n\"first_name\": \"George\",\\n\"last_name\": \"Mikan\",\\n\"year_of_birth\": 1924,\\n\"num_seasons_in_nba\": 11\\n}', '  {\\n\"first_name\": \"Bob\",\\n\"last_name\": \"Pettit\",\\n\"year_of_birth\": 1922,\\n\"num_seasons_in_nba\": 11\\n}\\n\\n\\n\\n\\n', '  {\\n\"first_name\": \"Oscar\",\\n\"last_name\": \"Robertson\",\\n\"year_of_birth\": 1936,\\n\"num_seasons_in_nba\": 13\\n}\\n\\n\\n\\n', '  {\\n\"first_name\": \"Bill\",\\n\"last_name\": \"Russell\",\\n\"year_of_birth\": 1934,\\n\"num_seasons_in_nba\": 13\\n}\\n\\n\\n\\n\\n', '  {\\n\"first_name\": \"Dolph\",\\n\"last_name\": \"Schayes\",\\n\"year_of_birth\": 1921,\\n\"num_seasons_in_nba\": 15\\n}\\n\\n\\n\\n\\n']\n",
       "```"
      ],
      "text/plain": [
       "<IPython.core.display.Markdown object>"
      ]
     },
     "metadata": {},
     "output_type": "display_data"
    }
   ],
   "source": [
    "from time import time\n",
    "\n",
    "players = ['Michael Jordan', 'Tim Duncan', 'Larry Bird', 'Magic Johnson', 'Patrick Ewing', \n",
    "           'Hakeem Olajuwan', 'Nate Archibald', 'Charles Barkley', 'Bob Cousy', 'Clyde Drexler', \n",
    "           'Julius Erving', 'John Havlicek', 'Elvin Hayes', 'Jerry Lucas', 'Moses Malone',\n",
    "           'George Mikan', 'Bob Pettit', 'Oscar Robertson', 'Bill Russell', 'Dolph Schayes']\n",
    "prompts = []\n",
    "for player in players:\n",
    "    question = f'Please give me information about {player}. You MUST answer using the following json schema: '\n",
    "    question_with_schema = f'{question}{AnswerFormat.schema_json()}'\n",
    "    prompt = get_prompt(question_with_schema)\n",
    "    prompts.append(prompt)\n",
    "\n",
    "start = time()\n",
    "one_player_result = vllm_with_character_level_parser(prompts[0], JsonSchemaParser(AnswerFormat.schema()))\n",
    "end = time()\n",
    "print(f'Time taken for 1 player: {end - start}s')\n",
    "display_content(one_player_result)\n",
    "\n",
    "start = time()\n",
    "all_results = vllm_with_character_level_parser(prompts[1:], JsonSchemaParser(AnswerFormat.schema()))\n",
    "end = time()\n",
    "print(f'Time taken for {len(prompts)-1} players: {end - start}. Time per player: {(end - start)/(len(prompts)-1)}')\n",
    "display_content(all_results)"
   ]
  },
  {
   "cell_type": "markdown",
   "metadata": {},
   "source": [
    "# Regular Expression + Analysis Example\n",
    "\n",
    "We now show two additional features: Regular Expression support and interference analysis.\n",
    "\n",
    "The code here is a bit lower level, as we need the `logits_processor` instance so we don't call the helper function `vllm_with_character_level_parser` that we created earlier in this notebook.\n",
    "\n",
    "Interference analysis allows us to see how much the format enforcer had to act, and what would be the probability of the selected tokens had the format enforcer not intervened. This can help you improve result quality by improving prompting and modelling to reduce the interference required. As a rule of thumb - the less interference the better."
   ]
  },
  {
   "cell_type": "code",
   "execution_count": 9,
   "metadata": {},
   "outputs": [
    {
     "data": {
      "text/markdown": [
       "**Prompt:**"
      ],
      "text/plain": [
       "<IPython.core.display.Markdown object>"
      ]
     },
     "metadata": {},
     "output_type": "display_data"
    },
    {
     "data": {
      "text/markdown": [
       "```\n",
       "<s>[INST] <<SYS>>\n",
       "You are a helpful, respectful and honest assistant. Always answer as helpfully as possible, while being safe.  Your answers should not include any harmful, unethical, racist, sexist, toxic, dangerous, or illegal content. Please ensure that your responses are socially unbiased and positive in nature.\n",
       "\n",
       "If a question does not make any sense, or is not factually coherent, explain why instead of answering something not correct. If you don't know the answer to a question, please don't share false information.\n",
       "<</SYS>>\n",
       "\n",
       "When was Michael Jordan Born? Please answer in mm/dd/yyyy format. [/INST]\n",
       "```"
      ],
      "text/plain": [
       "<IPython.core.display.Markdown object>"
      ]
     },
     "metadata": {},
     "output_type": "display_data"
    },
    {
     "name": "stderr",
     "output_type": "stream",
     "text": [
      "Processed prompts: 100%|██████████| 1/1 [00:00<00:00,  1.62it/s]\n"
     ]
    },
    {
     "data": {
      "text/markdown": [
       "**Answer:**"
      ],
      "text/plain": [
       "<IPython.core.display.Markdown object>"
      ]
     },
     "metadata": {},
     "output_type": "display_data"
    },
    {
     "data": {
      "text/markdown": [
       "```\n",
       " In mm/dd/yyyy format, Michael Jordan was born in 02/17/1963\n",
       "```"
      ],
      "text/plain": [
       "<IPython.core.display.Markdown object>"
      ]
     },
     "metadata": {},
     "output_type": "display_data"
    },
    {
     "data": {
      "text/markdown": [
       "**Analyzer Results:**"
      ],
      "text/plain": [
       "<IPython.core.display.Markdown object>"
      ]
     },
     "metadata": {},
     "output_type": "display_data"
    },
    {
     "data": {
      "text/html": [
       "<div>\n",
       "<style scoped>\n",
       "    .dataframe tbody tr th:only-of-type {\n",
       "        vertical-align: middle;\n",
       "    }\n",
       "\n",
       "    .dataframe tbody tr th {\n",
       "        vertical-align: top;\n",
       "    }\n",
       "\n",
       "    .dataframe thead th {\n",
       "        text-align: right;\n",
       "    }\n",
       "</style>\n",
       "<table border=\"1\" class=\"dataframe\">\n",
       "  <thead>\n",
       "    <tr style=\"text-align: right;\">\n",
       "      <th></th>\n",
       "      <th>generated_token</th>\n",
       "      <th>generated_token_idx</th>\n",
       "      <th>generated_score</th>\n",
       "      <th>leading_token</th>\n",
       "      <th>leading_token_idx</th>\n",
       "      <th>leading_score</th>\n",
       "    </tr>\n",
       "  </thead>\n",
       "  <tbody>\n",
       "    <tr>\n",
       "      <th>0</th>\n",
       "      <td></td>\n",
       "      <td>29871</td>\n",
       "      <td>0.99997</td>\n",
       "      <td></td>\n",
       "      <td>29871</td>\n",
       "      <td>0.99997</td>\n",
       "    </tr>\n",
       "    <tr>\n",
       "      <th>1</th>\n",
       "      <td>I</td>\n",
       "      <td>29902</td>\n",
       "      <td>0.00000</td>\n",
       "      <td>Thank</td>\n",
       "      <td>3374</td>\n",
       "      <td>0.39034</td>\n",
       "    </tr>\n",
       "    <tr>\n",
       "      <th>2</th>\n",
       "      <td>n</td>\n",
       "      <td>29876</td>\n",
       "      <td>0.00000</td>\n",
       "      <td>'</td>\n",
       "      <td>29915</td>\n",
       "      <td>0.86568</td>\n",
       "    </tr>\n",
       "    <tr>\n",
       "      <th>3</th>\n",
       "      <td></td>\n",
       "      <td>29871</td>\n",
       "      <td>0.00769</td>\n",
       "      <td>st</td>\n",
       "      <td>303</td>\n",
       "      <td>0.63534</td>\n",
       "    </tr>\n",
       "    <tr>\n",
       "      <th>4</th>\n",
       "      <td>mm</td>\n",
       "      <td>4317</td>\n",
       "      <td>0.00000</td>\n",
       "      <td>1</td>\n",
       "      <td>29896</td>\n",
       "      <td>0.97999</td>\n",
       "    </tr>\n",
       "    <tr>\n",
       "      <th>5</th>\n",
       "      <td>/</td>\n",
       "      <td>29914</td>\n",
       "      <td>0.99871</td>\n",
       "      <td>/</td>\n",
       "      <td>29914</td>\n",
       "      <td>0.99871</td>\n",
       "    </tr>\n",
       "    <tr>\n",
       "      <th>6</th>\n",
       "      <td>dd</td>\n",
       "      <td>1289</td>\n",
       "      <td>0.99976</td>\n",
       "      <td>dd</td>\n",
       "      <td>1289</td>\n",
       "      <td>0.99976</td>\n",
       "    </tr>\n",
       "    <tr>\n",
       "      <th>7</th>\n",
       "      <td>/</td>\n",
       "      <td>29914</td>\n",
       "      <td>0.99989</td>\n",
       "      <td>/</td>\n",
       "      <td>29914</td>\n",
       "      <td>0.99989</td>\n",
       "    </tr>\n",
       "    <tr>\n",
       "      <th>8</th>\n",
       "      <td>yyyy</td>\n",
       "      <td>18855</td>\n",
       "      <td>0.99559</td>\n",
       "      <td>yyyy</td>\n",
       "      <td>18855</td>\n",
       "      <td>0.99559</td>\n",
       "    </tr>\n",
       "    <tr>\n",
       "      <th>9</th>\n",
       "      <td>format</td>\n",
       "      <td>3402</td>\n",
       "      <td>0.99965</td>\n",
       "      <td>format</td>\n",
       "      <td>3402</td>\n",
       "      <td>0.99965</td>\n",
       "    </tr>\n",
       "    <tr>\n",
       "      <th>10</th>\n",
       "      <td>,</td>\n",
       "      <td>29892</td>\n",
       "      <td>0.99865</td>\n",
       "      <td>,</td>\n",
       "      <td>29892</td>\n",
       "      <td>0.99865</td>\n",
       "    </tr>\n",
       "    <tr>\n",
       "      <th>11</th>\n",
       "      <td>Michael</td>\n",
       "      <td>5765</td>\n",
       "      <td>0.99858</td>\n",
       "      <td>Michael</td>\n",
       "      <td>5765</td>\n",
       "      <td>0.99858</td>\n",
       "    </tr>\n",
       "    <tr>\n",
       "      <th>12</th>\n",
       "      <td>Jordan</td>\n",
       "      <td>18284</td>\n",
       "      <td>0.99958</td>\n",
       "      <td>Jordan</td>\n",
       "      <td>18284</td>\n",
       "      <td>0.99958</td>\n",
       "    </tr>\n",
       "    <tr>\n",
       "      <th>13</th>\n",
       "      <td>was</td>\n",
       "      <td>471</td>\n",
       "      <td>0.99901</td>\n",
       "      <td>was</td>\n",
       "      <td>471</td>\n",
       "      <td>0.99901</td>\n",
       "    </tr>\n",
       "    <tr>\n",
       "      <th>14</th>\n",
       "      <td>born</td>\n",
       "      <td>6345</td>\n",
       "      <td>0.99943</td>\n",
       "      <td>born</td>\n",
       "      <td>6345</td>\n",
       "      <td>0.99943</td>\n",
       "    </tr>\n",
       "    <tr>\n",
       "      <th>15</th>\n",
       "      <td>in</td>\n",
       "      <td>297</td>\n",
       "      <td>0.00032</td>\n",
       "      <td>on</td>\n",
       "      <td>373</td>\n",
       "      <td>0.99949</td>\n",
       "    </tr>\n",
       "    <tr>\n",
       "      <th>16</th>\n",
       "      <td></td>\n",
       "      <td>29871</td>\n",
       "      <td>0.12968</td>\n",
       "      <td>the</td>\n",
       "      <td>278</td>\n",
       "      <td>0.71210</td>\n",
       "    </tr>\n",
       "    <tr>\n",
       "      <th>17</th>\n",
       "      <td>0</td>\n",
       "      <td>29900</td>\n",
       "      <td>0.95544</td>\n",
       "      <td>0</td>\n",
       "      <td>29900</td>\n",
       "      <td>0.95544</td>\n",
       "    </tr>\n",
       "    <tr>\n",
       "      <th>18</th>\n",
       "      <td>2</td>\n",
       "      <td>29906</td>\n",
       "      <td>0.99909</td>\n",
       "      <td>2</td>\n",
       "      <td>29906</td>\n",
       "      <td>0.99909</td>\n",
       "    </tr>\n",
       "    <tr>\n",
       "      <th>19</th>\n",
       "      <td>/</td>\n",
       "      <td>29914</td>\n",
       "      <td>0.99993</td>\n",
       "      <td>/</td>\n",
       "      <td>29914</td>\n",
       "      <td>0.99993</td>\n",
       "    </tr>\n",
       "    <tr>\n",
       "      <th>20</th>\n",
       "      <td>1</td>\n",
       "      <td>29896</td>\n",
       "      <td>0.90226</td>\n",
       "      <td>1</td>\n",
       "      <td>29896</td>\n",
       "      <td>0.90226</td>\n",
       "    </tr>\n",
       "    <tr>\n",
       "      <th>21</th>\n",
       "      <td>7</td>\n",
       "      <td>29955</td>\n",
       "      <td>0.99927</td>\n",
       "      <td>7</td>\n",
       "      <td>29955</td>\n",
       "      <td>0.99927</td>\n",
       "    </tr>\n",
       "    <tr>\n",
       "      <th>22</th>\n",
       "      <td>/</td>\n",
       "      <td>29914</td>\n",
       "      <td>0.99998</td>\n",
       "      <td>/</td>\n",
       "      <td>29914</td>\n",
       "      <td>0.99998</td>\n",
       "    </tr>\n",
       "    <tr>\n",
       "      <th>23</th>\n",
       "      <td>1</td>\n",
       "      <td>29896</td>\n",
       "      <td>0.99983</td>\n",
       "      <td>1</td>\n",
       "      <td>29896</td>\n",
       "      <td>0.99983</td>\n",
       "    </tr>\n",
       "    <tr>\n",
       "      <th>24</th>\n",
       "      <td>9</td>\n",
       "      <td>29929</td>\n",
       "      <td>0.99999</td>\n",
       "      <td>9</td>\n",
       "      <td>29929</td>\n",
       "      <td>0.99999</td>\n",
       "    </tr>\n",
       "    <tr>\n",
       "      <th>25</th>\n",
       "      <td>6</td>\n",
       "      <td>29953</td>\n",
       "      <td>0.99909</td>\n",
       "      <td>6</td>\n",
       "      <td>29953</td>\n",
       "      <td>0.99909</td>\n",
       "    </tr>\n",
       "    <tr>\n",
       "      <th>26</th>\n",
       "      <td>3</td>\n",
       "      <td>29941</td>\n",
       "      <td>0.99900</td>\n",
       "      <td>3</td>\n",
       "      <td>29941</td>\n",
       "      <td>0.99900</td>\n",
       "    </tr>\n",
       "    <tr>\n",
       "      <th>27</th>\n",
       "      <td>&lt;/s&gt;</td>\n",
       "      <td>2</td>\n",
       "      <td>0.00150</td>\n",
       "      <td>.</td>\n",
       "      <td>29889</td>\n",
       "      <td>0.99474</td>\n",
       "    </tr>\n",
       "  </tbody>\n",
       "</table>\n",
       "</div>"
      ],
      "text/plain": [
       "   generated_token  generated_token_idx  generated_score leading_token  leading_token_idx  leading_score\n",
       "0                                 29871          0.99997                            29871        0.99997\n",
       "1                I                29902          0.00000         Thank               3374        0.39034\n",
       "2                n                29876          0.00000             '              29915        0.86568\n",
       "3                                 29871          0.00769            st                303        0.63534\n",
       "4               mm                 4317          0.00000             1              29896        0.97999\n",
       "5                /                29914          0.99871             /              29914        0.99871\n",
       "6               dd                 1289          0.99976            dd               1289        0.99976\n",
       "7                /                29914          0.99989             /              29914        0.99989\n",
       "8             yyyy                18855          0.99559          yyyy              18855        0.99559\n",
       "9           format                 3402          0.99965        format               3402        0.99965\n",
       "10               ,                29892          0.99865             ,              29892        0.99865\n",
       "11         Michael                 5765          0.99858       Michael               5765        0.99858\n",
       "12          Jordan                18284          0.99958        Jordan              18284        0.99958\n",
       "13             was                  471          0.99901           was                471        0.99901\n",
       "14            born                 6345          0.99943          born               6345        0.99943\n",
       "15              in                  297          0.00032            on                373        0.99949\n",
       "16                                29871          0.12968           the                278        0.71210\n",
       "17               0                29900          0.95544             0              29900        0.95544\n",
       "18               2                29906          0.99909             2              29906        0.99909\n",
       "19               /                29914          0.99993             /              29914        0.99993\n",
       "20               1                29896          0.90226             1              29896        0.90226\n",
       "21               7                29955          0.99927             7              29955        0.99927\n",
       "22               /                29914          0.99998             /              29914        0.99998\n",
       "23               1                29896          0.99983             1              29896        0.99983\n",
       "24               9                29929          0.99999             9              29929        0.99999\n",
       "25               6                29953          0.99909             6              29953        0.99909\n",
       "26               3                29941          0.99900             3              29941        0.99900\n",
       "27            </s>                    2          0.00150             .              29889        0.99474"
      ]
     },
     "metadata": {},
     "output_type": "display_data"
    }
   ],
   "source": [
    "from lmformatenforcer.regexparser import RegexParser\n",
    "import pandas as pd\n",
    "\n",
    "date_regex = r'(0?[1-9]|1[0-2])\\/(0?[1-9]|1\\d|2\\d|3[01])\\/(19|20)\\d{2}'\n",
    "answer_regex = ' In mm/dd/yyyy format, Michael Jordan was born in ' + date_regex\n",
    "parser = RegexParser(answer_regex)\n",
    "\n",
    "question = 'When was Michael Jordan Born? Please answer in mm/dd/yyyy format.'\n",
    "prompt = get_prompt(question)\n",
    "display_header(\"Prompt:\")\n",
    "display_content(prompt)\n",
    "\n",
    "# Note the analyze=True flag, which is will create an analyzer in the processor\n",
    "logits_processor = build_vllm_logits_processor(tokenizer_data, parser, analyze=True)\n",
    "\n",
    "sampling_params = SamplingParams(max_tokens=200, logits_processors=[logits_processor])\n",
    "results = llm.generate(prompt, sampling_params=sampling_params)\n",
    "\n",
    "text = results[0].outputs[0].text\n",
    "display_header(\"Answer:\")\n",
    "display_content(text)\n",
    "\n",
    "display_header(\"Analyzer Results:\")\n",
    "report_dict = logits_processor.analyzer.generate_report_dict(results[0].outputs[0].token_ids)\n",
    "enforced_scores = pd.DataFrame(report_dict)\n",
    "# Setting some display options for readability\n",
    "pd.set_option('display.width', 1000)\n",
    "pd.set_option('display.max_columns', 10)\n",
    "pd.set_option('display.max_rows', 999)\n",
    "pd.set_option('display.float_format', ' {:,.5f}'.format)\n",
    "display(enforced_scores)\n"
   ]
  },
  {
   "cell_type": "markdown",
   "metadata": {},
   "source": [
    "The timesteps in which `generated_score < leading_score` are those in which the format enforcer had to intervene. Consider using this during development to fine tune your prompts for better consistency.\n",
    "\n",
    "This method also works for JSON Schema mode, of course."
   ]
  }
 ],
 "metadata": {
  "kernelspec": {
   "display_name": "lmformatenforcer",
   "language": "python",
   "name": "python3"
  },
  "language_info": {
   "codemirror_mode": {
    "name": "ipython",
    "version": 3
   },
   "file_extension": ".py",
   "mimetype": "text/x-python",
   "name": "python",
   "nbconvert_exporter": "python",
   "pygments_lexer": "ipython3",
   "version": "3.10.13"
  },
  "orig_nbformat": 4
 },
 "nbformat": 4,
 "nbformat_minor": 2
}
